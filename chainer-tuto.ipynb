{
 "cells": [
  {
   "cell_type": "code",
   "execution_count": 94,
   "metadata": {
    "collapsed": true
   },
   "outputs": [],
   "source": [
    "import numpy as np\n",
    "import chainer\n",
    "import cupy\n",
    "from chainer import cuda, Function, gradient_check, report, training, utils, Variable\n",
    "from chainer import datasets, iterators, optimizers, serializers\n",
    "from chainer import Link, Chain, ChainList\n",
    "import chainer.functions as F\n",
    "import chainer.links as L\n",
    "from chainer.training import extensions\n",
    "import time\n",
    "import random\n",
    "# \n",
    "# from chainer.links import VGG16Layers\n",
    "# from chainer.links import ResNet50Layers\n",
    "# from chainer.links import ResNet152Layers\n",
    "# from chainer.links import GoogLeNet\n",
    "# \n",
    "# chainer.cuda.get_device_from_id(0).use()"
   ]
  },
  {
   "cell_type": "code",
   "execution_count": 49,
   "metadata": {},
   "outputs": [
    {
     "data": {
      "text/plain": [
       "('3.3.0', True, None)"
      ]
     },
     "execution_count": 49,
     "metadata": {},
     "output_type": "execute_result"
    }
   ],
   "source": [
    "import chainer\n",
    "import cupy\n",
    "\n",
    "chainer.__version__, chainer.cuda.available, time.sleep(0.01)"
   ]
  },
  {
   "cell_type": "code",
   "execution_count": 16,
   "metadata": {},
   "outputs": [],
   "source": [
    "class TestNet(chainer.Chain):\n",
    "    def __init__(self, class_num):\n",
    "        super(TestNet, self).__init__()\n",
    "        with self.init_scope():\n",
    "            self.fc1 = L.Linear(None, 256)\n",
    "            self.fc2 = L.Linear(None, 256)\n",
    "            self.fc3 = L.Linear(None, class_num)\n",
    "            \n",
    "    def __call__(self, x):\n",
    "        x = F.relu(self.fc1(x))\n",
    "        x = F.relu(self.fc2(x))\n",
    "        x = F.relu(self.fc3(x))\n",
    "        return x"
   ]
  },
  {
   "cell_type": "code",
   "execution_count": 53,
   "metadata": {},
   "outputs": [],
   "source": [
    "class LeNet5(chainer.Chain):\n",
    "    def __init__(self, class_cnt):\n",
    "        super(LeNet5, self).__init__()\n",
    "        with self.init_scope():\n",
    "            self.c1 = L.Convolution2D(None, 6, 5, 1, 2) # >28 > 14\n",
    "            self.c2 = L.Convolution2D(None, 16, 5, 1) # 10 > 5\n",
    "            #self.c3 = L.Convolution2D(None, 120, 4, 1)  # 1\n",
    "            self.fc1 = L.Linear(None, 120)\n",
    "            self.fc2 = L.Linear(None, 84)\n",
    "            self.fc3 = L.Linear(None, class_cnt)\n",
    "            \n",
    "    def __call__(self, x):\n",
    "        x = F.sigmoid(self.c1(x))\n",
    "        x = F.max_pooling_2d(x, 2, 2)\n",
    "        x = F.sigmoid(self.c2(x))\n",
    "        x = F.max_pooling_2d(x, 2, 2)\n",
    "        #x = F.sigmoid(self.c3(x))\n",
    "        x = F.sigmoid(self.fc1(x))\n",
    "        x = F.sigmoid(self.fc2(x))\n",
    "        return self.fc3(x)\n",
    "        #if chainer.config.train:\n",
    "        #    return self.fc2(x)\n",
    "        #return F.softmax(self.fc2(x))"
   ]
  },
  {
   "cell_type": "code",
   "execution_count": 95,
   "metadata": {},
   "outputs": [],
   "source": [
    "class LeNetX(chainer.Chain):\n",
    "    def __init__(self, class_cnt):\n",
    "        random.seed(0)\n",
    "        np.random.seed(0)\n",
    "        cupy.random.seed(0)\n",
    "        super(LeNetX, self).__init__()\n",
    "\n",
    "        with self.init_scope():\n",
    "            self.c1 = L.Convolution2D(None, 6, 5, 1, 2) # >28 > 14\n",
    "            self.c2 = L.Convolution2D(None, 16, 5, 1) # 10 > 5\n",
    "            #self.c3 = L.Convolution2D(None, 120, 4, 1)  # 1\n",
    "            self.fc1 = L.Linear(None, 120)\n",
    "            self.fc2 = L.Linear(None, 84)\n",
    "            self.fc3 = L.Linear(None, class_cnt)\n",
    "            \n",
    "    def __call__(self, x):\n",
    "        x = F.relu(self.c1(x))\n",
    "        x = F.max_pooling_2d(x, 2, 2)\n",
    "        x = F.relu(self.c2(x))\n",
    "        x = F.max_pooling_2d(x, 2, 2)\n",
    "        x = F.relu(self.fc1(x))\n",
    "        x = F.relu(self.fc2(x))\n",
    "        return self.fc3(x)\n"
   ]
  },
  {
   "cell_type": "code",
   "execution_count": 96,
   "metadata": {},
   "outputs": [],
   "source": [
    "class LeNetC(chainer.Chain):\n",
    "    def __init__(self, class_cnt):\n",
    "        random.seed(0)\n",
    "        np.random.seed(0)\n",
    "        cupy.random.seed(0)\n",
    "        super(LeNetC, self).__init__()\n",
    "        with self.init_scope():\n",
    "            self.c1 = L.Convolution2D(None, 6, 5, 1, 0) # >28 > 14\n",
    "            self.c2 = L.Convolution2D(None, 16, 5, 1) # 10 > 5\n",
    "            #self.c3 = L.Convolution2D(None, 120, 4, 1)  # 1\n",
    "            self.fc1 = L.Linear(None, 120)\n",
    "            self.fc2 = L.Linear(None, 84)\n",
    "            self.fc3 = L.Linear(None, class_cnt)\n",
    "            \n",
    "    def __call__(self, x):\n",
    "        x = F.relu(self.c1(x))\n",
    "        x = F.max_pooling_2d(x, 2, 2)\n",
    "        x = F.relu(self.c2(x))\n",
    "        x = F.max_pooling_2d(x, 2, 2)\n",
    "        x = F.relu(self.fc1(x))\n",
    "        x = F.relu(self.fc2(x))\n",
    "        return self.fc3(x)\n"
   ]
  },
  {
   "cell_type": "code",
   "execution_count": 111,
   "metadata": {},
   "outputs": [],
   "source": [
    "class AlexLike(chainer.Chain):\n",
    "    insize = 32\n",
    "    \n",
    "    def __init__(self):\n",
    "        random.seed(0)\n",
    "        np.random.seed(0)\n",
    "        cupy.random.seed(0)\n",
    "        \n",
    "        super(AlexLike, self).__init__()\n",
    "        with self.init_scope():\n",
    "            self.c1 = L.Convolution2D(None, 48, 7, 1, 1) # >28 > 14\n",
    "            self.c2 = L.Convolution2D(None, 128, 5, 1, 1) # >14 > 12\n",
    "            self.c3 = L.Convolution2D(None, 196, 3, 1, 1) # >12\n",
    "            self.c4 = L.Convolution2D(None, 196, 3, 1, 1) # >12\n",
    "            self.c5 = L.Convolution2D(None, 128, 3, 1) # >10 > 5\n",
    "            self.fc1 = L.Linear(None, 1024) # 3200 > 1024\n",
    "            self.fc2 = L.Linear(None, 1024)\n",
    "            self.fc3 = L.Linear(None, 10)\n",
    "            \n",
    "    def __call__(self, x):\n",
    "        x = F.local_response_normalization(F.relu(self.c1(x)))\n",
    "        x = F.max_pooling_2d(x, 3, 2)\n",
    "        x = F.local_response_normalization(F.relu(self.c2(x)))\n",
    "        # x = F.max_pooling_2d(x, 3, 2)\n",
    "        x = F.relu(self.c3(x))\n",
    "        x = F.relu(self.c4(x))\n",
    "        x = F.relu(self.c5(x))\n",
    "        x = F.max_pooling_2d(x, 3, 2)\n",
    "        x = F.dropout(F.relu(self.fc1(x)))\n",
    "        x = F.dropout(F.relu(self.fc2(x)))\n",
    "        x = F.relu(self.fc3(x))\n",
    "        return x\n"
   ]
  },
  {
   "cell_type": "markdown",
   "metadata": {},
   "source": [
    "## Optimizer\n",
    "model = TestNet(2)\n",
    "optimizer = chainer.optimizers.SGD()\n",
    "optimizer.setup(model)\n",
    "optimizer.add_hook(chainer.optimizer.WeightDecay(0.0005))"
   ]
  },
  {
   "cell_type": "markdown",
   "metadata": {},
   "source": [
    "### Optimize directly\n",
    "#### Case 1\n",
    "```python\n",
    "x = np.random.uniform(-1, 1, (2, 4)).astype('f')\n",
    "model.cleargrads()\n",
    "loss = F.sum(model(chainer.Variable(x)))\n",
    "loss.backward()\n",
    "optimizer.update()\n",
    "print(loss)\n",
    "```"
   ]
  },
  {
   "cell_type": "markdown",
   "metadata": {},
   "source": [
    "#### Case 2\n",
    "```\n",
    "def lossfun(arg1, arg2):\n",
    "    loss = F.sum(model(arg1 - arg2))\n",
    "    return loss\n",
    "\n",
    "x1 = np.random.uniform(-1, 1, (2, 4)).astype('f')\n",
    "x2 = np.random.uniform(-1, 1, (2, 4)).astype('f')\n",
    "optimizer.update(lossfun, x1, x2)\n",
    "```"
   ]
  },
  {
   "cell_type": "markdown",
   "metadata": {},
   "source": [
    "### Serializer\n",
    "```\n",
    "chainer.serializers.save_npz('foo.model', model)\n",
    "```"
   ]
  },
  {
   "cell_type": "markdown",
   "metadata": {},
   "source": [
    "```\n",
    "print(model(x))\n",
    "chainer.serializers.load_npz('foo.model', model)\n",
    "model(x)\n",
    "\n",
    "\n",
    "chainer.serializers.save_npz('foo.state', optimizer)\n",
    "chainer.serializers.load_npz('foo.state', optimizer)\n",
    "```"
   ]
  },
  {
   "cell_type": "markdown",
   "metadata": {},
   "source": [
    "## Get MNIST data"
   ]
  },
  {
   "cell_type": "code",
   "execution_count": 80,
   "metadata": {},
   "outputs": [
    {
     "name": "stderr",
     "output_type": "stream",
     "text": [
      "Downloading from https://www.cs.toronto.edu/~kriz/cifar-10-python.tar.gz...\n"
     ]
    }
   ],
   "source": [
    "chainer.cuda.get_device_from_id(0).use()\n",
    "\n",
    "#train, test = chainer.datasets.get_mnist(ndim=3)\n",
    "train, test = chainer.datasets.get_cifar10()\n",
    "\n",
    "train_iter = chainer.iterators.SerialIterator(train, batch_size=100, shuffle=True)\n",
    "test_iter = chainer.iterators.SerialIterator(test, batch_size=100, repeat=False, shuffle=False)"
   ]
  },
  {
   "cell_type": "markdown",
   "metadata": {},
   "source": [
    "### Example of the classifier\n",
    "```\n",
    "class Classifier(chainer.Chain):\n",
    "    def __init__(self, predictor):\n",
    "        super(Classifier, self).__init__()\n",
    "        with self.init_scope():\n",
    "            slf.predictor = predictor\n",
    "            \n",
    "    def __call__(self, x, t):\n",
    "        y = self.predictor(x)\n",
    "        loss = F.softmax_cross_entropy(y, t)\n",
    "        accuracy = F.accuracy(y, t)\n",
    "        report({'loss': loss, 'accuracy': accuracy}, self)\n",
    "        return loss\n",
    "```"
   ]
  },
  {
   "cell_type": "code",
   "execution_count": 114,
   "metadata": {},
   "outputs": [
    {
     "name": "stdout",
     "output_type": "stream",
     "text": [
      "#### 0-AlexLike\nepoch       main/loss   validation/main/loss  main/accuracy  validation/main/accuracy  elapsed_time\n"
     ]
    },
    {
     "name": "stdout",
     "output_type": "stream",
     "text": [
      "1           2.29069     2.24582               0.11484        0.1441                    12.8079       \n"
     ]
    },
    {
     "name": "stdout",
     "output_type": "stream",
     "text": [
      "2           2.14803     2.04862               0.19156        0.2485                    24.625        \n"
     ]
    },
    {
     "name": "stdout",
     "output_type": "stream",
     "text": [
      "3           1.99016     1.79084               0.25974        0.3562                    36.664        \n"
     ]
    },
    {
     "name": "stdout",
     "output_type": "stream",
     "text": [
      "4           1.835       1.76556               0.32248        0.3601                    48.2481       \n"
     ]
    },
    {
     "name": "stdout",
     "output_type": "stream",
     "text": [
      "5           1.74718     1.61215               0.35594        0.4089                    60.0022       \n"
     ]
    },
    {
     "name": "stdout",
     "output_type": "stream",
     "text": [
      "6           1.67239     1.58819               0.38522        0.4154                    71.7618       \n"
     ]
    },
    {
     "name": "stdout",
     "output_type": "stream",
     "text": [
      "7           1.59706     1.51872               0.41128        0.4388                    83.6388       \n"
     ]
    },
    {
     "name": "stdout",
     "output_type": "stream",
     "text": [
      "8           1.54181     1.49687               0.43712        0.457                     95.8403       \n"
     ]
    },
    {
     "name": "stdout",
     "output_type": "stream",
     "text": [
      "9           1.49364     1.45475               0.45326        0.4763                    108.215       \n"
     ]
    },
    {
     "name": "stdout",
     "output_type": "stream",
     "text": [
      "10          1.45112     1.37631               0.47242        0.4953                    120.912       \n"
     ]
    },
    {
     "name": "stdout",
     "output_type": "stream",
     "text": [
      "11          1.41195     1.32171               0.48896        0.5264                    133.589       \n"
     ]
    },
    {
     "name": "stdout",
     "output_type": "stream",
     "text": [
      "12          1.37663     1.31943               0.50088        0.5245                    146.271       \n"
     ]
    },
    {
     "name": "stdout",
     "output_type": "stream",
     "text": [
      "13          1.33807     1.27707               0.5179         0.546                     159.117       \n"
     ]
    },
    {
     "name": "stdout",
     "output_type": "stream",
     "text": [
      "14          1.30227     1.26834               0.5299         0.5444                    171.979       \n"
     ]
    },
    {
     "name": "stdout",
     "output_type": "stream",
     "text": [
      "15          1.27273     1.30088               0.54116        0.5343                    184.957       \n"
     ]
    },
    {
     "name": "stdout",
     "output_type": "stream",
     "text": [
      "16          1.24164     1.18997               0.55452        0.5807                    197.963       \n"
     ]
    },
    {
     "name": "stdout",
     "output_type": "stream",
     "text": [
      "17          1.21382     1.22074               0.5634         0.5726                    210.919       \n"
     ]
    },
    {
     "name": "stdout",
     "output_type": "stream",
     "text": [
      "18          1.18533     1.14532               0.57348        0.5992                    223.872       \n"
     ]
    },
    {
     "name": "stdout",
     "output_type": "stream",
     "text": [
      "19          1.16041     1.08945               0.58314        0.6101                    236.738       \n"
     ]
    },
    {
     "name": "stdout",
     "output_type": "stream",
     "text": [
      "20          1.1323      1.09744               0.59394        0.6097                    249.6         \n"
     ]
    },
    {
     "name": "stdout",
     "output_type": "stream",
     "text": [
      "21          1.10345     1.05548               0.60568        0.6235                    262.545       \n"
     ]
    },
    {
     "name": "stdout",
     "output_type": "stream",
     "text": [
      "22          1.0837      1.07884               0.61312        0.6196                    275.562       \n"
     ]
    },
    {
     "name": "stdout",
     "output_type": "stream",
     "text": [
      "23          1.0607      1.06028               0.6238         0.6182                    288.616       \n"
     ]
    },
    {
     "name": "stdout",
     "output_type": "stream",
     "text": [
      "24          1.03791     1.00676               0.6325         0.6432                    301.479       \n"
     ]
    },
    {
     "name": "stdout",
     "output_type": "stream",
     "text": [
      "25          1.01511     1.05854               0.63826        0.635                     314.518       \n"
     ]
    },
    {
     "name": "stdout",
     "output_type": "stream",
     "text": [
      "26          0.998145    0.96338               0.64414        0.6602                    327.531       \n"
     ]
    },
    {
     "name": "stdout",
     "output_type": "stream",
     "text": [
      "27          0.969317    0.969653              0.65726        0.6582                    340.489       \n"
     ]
    },
    {
     "name": "stdout",
     "output_type": "stream",
     "text": [
      "28          0.954082    0.956189              0.66228        0.6637                    353.407       \n"
     ]
    },
    {
     "name": "stdout",
     "output_type": "stream",
     "text": [
      "29          0.933703    0.981145              0.66924        0.6504                    366.361       \n"
     ]
    },
    {
     "name": "stdout",
     "output_type": "stream",
     "text": [
      "30          0.910183    0.993674              0.678441       0.6464                    379.327       \n"
     ]
    },
    {
     "name": "stdout",
     "output_type": "stream",
     "text": [
      "31          0.89001     0.909698              0.68562        0.6849                    392.241       \n"
     ]
    },
    {
     "name": "stdout",
     "output_type": "stream",
     "text": [
      "32          0.875242    0.957402              0.69288        0.6626                    405.176       \n"
     ]
    },
    {
     "name": "stdout",
     "output_type": "stream",
     "text": [
      "33          0.85318     0.858441              0.69678        0.7006                    418.152       \n"
     ]
    },
    {
     "name": "stdout",
     "output_type": "stream",
     "text": [
      "34          0.835664    0.903217              0.70712        0.6896                    431.116       \n"
     ]
    },
    {
     "name": "stdout",
     "output_type": "stream",
     "text": [
      "35          0.814269    0.841151              0.713861       0.7025                    444.065       \n"
     ]
    },
    {
     "name": "stdout",
     "output_type": "stream",
     "text": [
      "36          0.802978    0.858328              0.71746        0.7025                    457.047       \n"
     ]
    },
    {
     "name": "stdout",
     "output_type": "stream",
     "text": [
      "37          0.788717    0.830574              0.7223         0.7118                    470.059       \n"
     ]
    },
    {
     "name": "stdout",
     "output_type": "stream",
     "text": [
      "38          0.771892    0.880003              0.73076        0.69                      482.989       \n"
     ]
    },
    {
     "name": "stdout",
     "output_type": "stream",
     "text": [
      "39          0.755653    0.870751              0.734921       0.701                     495.954       \n"
     ]
    },
    {
     "name": "stdout",
     "output_type": "stream",
     "text": [
      "40          0.738774    0.771596              0.74112        0.7334                    508.94        \n"
     ]
    },
    {
     "name": "stdout",
     "output_type": "stream",
     "text": [
      "41          0.728235    0.764774              0.74612        0.7325                    521.917       \n"
     ]
    },
    {
     "name": "stdout",
     "output_type": "stream",
     "text": [
      "42          0.709748    0.850371              0.74994        0.7072                    534.912       \n"
     ]
    },
    {
     "name": "stdout",
     "output_type": "stream",
     "text": [
      "43          0.697736    0.763046              0.75458        0.7355                    547.891       \n"
     ]
    },
    {
     "name": "stdout",
     "output_type": "stream",
     "text": [
      "44          0.685043    0.753427              0.75938        0.7396                    560.895       \n"
     ]
    },
    {
     "name": "stdout",
     "output_type": "stream",
     "text": [
      "45          0.666825    0.777273              0.76484        0.7332                    573.884       \n"
     ]
    },
    {
     "name": "stdout",
     "output_type": "stream",
     "text": [
      "46          0.653892    0.732656              0.77178        0.7459                    586.923       \n"
     ]
    },
    {
     "name": "stdout",
     "output_type": "stream",
     "text": [
      "47          0.641219    0.711642              0.77462        0.7522                    599.94        \n"
     ]
    },
    {
     "name": "stdout",
     "output_type": "stream",
     "text": [
      "48          0.629439    0.730331              0.77864        0.7484                    612.89        \n"
     ]
    },
    {
     "name": "stdout",
     "output_type": "stream",
     "text": [
      "49          0.613141    0.733822              0.78576        0.7446                    625.855       \n"
     ]
    },
    {
     "name": "stdout",
     "output_type": "stream",
     "text": [
      "50          0.602606    0.727294              0.789679       0.7527                    638.791       \n"
     ]
    },
    {
     "name": "stdout",
     "output_type": "stream",
     "text": [
      "51          0.588189    0.711786              0.793059       0.7555                    651.748       \n"
     ]
    },
    {
     "name": "stdout",
     "output_type": "stream",
     "text": [
      "52          0.575956    0.694718              0.79852        0.7613                    664.742       \n"
     ]
    },
    {
     "name": "stdout",
     "output_type": "stream",
     "text": [
      "53          0.562139    0.746347              0.803999       0.7519                    677.684       \n"
     ]
    },
    {
     "name": "stdout",
     "output_type": "stream",
     "text": [
      "54          0.54963     0.67572               0.80662        0.7707                    690.606       \n"
     ]
    },
    {
     "name": "stdout",
     "output_type": "stream",
     "text": [
      "55          0.536683    0.748559              0.811279       0.7509                    703.547       \n"
     ]
    },
    {
     "name": "stdout",
     "output_type": "stream",
     "text": [
      "56          0.524983    0.797051              0.816539       0.7364                    716.525       \n"
     ]
    },
    {
     "name": "stdout",
     "output_type": "stream",
     "text": [
      "57          0.516873    0.683008              0.819959       0.7677                    729.436       \n"
     ]
    },
    {
     "name": "stdout",
     "output_type": "stream",
     "text": [
      "58          0.500362    0.659922              0.82326        0.7756                    742.404       \n"
     ]
    },
    {
     "name": "stdout",
     "output_type": "stream",
     "text": [
      "59          0.489364    0.691031              0.829419       0.7625                    755.296       \n"
     ]
    },
    {
     "name": "stdout",
     "output_type": "stream",
     "text": [
      "60          0.479321    0.658546              0.831439       0.7801                    768.336       \n"
     ]
    },
    {
     "name": "stdout",
     "output_type": "stream",
     "text": [
      "61          0.46955     0.673274              0.834459       0.7736                    781.289       \n"
     ]
    },
    {
     "name": "stdout",
     "output_type": "stream",
     "text": [
      "62          0.453613    0.694288              0.84156        0.7747                    794.25        \n"
     ]
    },
    {
     "name": "stdout",
     "output_type": "stream",
     "text": [
      "63          0.443754    0.68158               0.843819       0.7738                    807.188       \n"
     ]
    },
    {
     "name": "stdout",
     "output_type": "stream",
     "text": [
      "64          0.433161    0.666174              0.847219       0.7816                    820.179       \n"
     ]
    },
    {
     "name": "stdout",
     "output_type": "stream",
     "text": [
      "65          0.422588    0.748022              0.850439       0.759                     833.131       \n"
     ]
    },
    {
     "name": "stdout",
     "output_type": "stream",
     "text": [
      "66          0.410034    0.658731              0.8546         0.7887                    846.117       \n"
     ]
    },
    {
     "name": "stdout",
     "output_type": "stream",
     "text": [
      "67          0.398223    0.679355              0.86058        0.7838                    859.171       \n"
     ]
    },
    {
     "name": "stdout",
     "output_type": "stream",
     "text": [
      "68          0.387999    0.661285              0.8627         0.7877                    872.153       \n"
     ]
    },
    {
     "name": "stdout",
     "output_type": "stream",
     "text": [
      "69          0.380597    0.670426              0.86812        0.7849                    885.147       \n"
     ]
    },
    {
     "name": "stdout",
     "output_type": "stream",
     "text": [
      "70          0.366712    0.655402              0.87088        0.7871                    898.093       \n"
     ]
    },
    {
     "name": "stdout",
     "output_type": "stream",
     "text": [
      "71          0.358071    0.675595              0.87558        0.7887                    910.937       \n"
     ]
    },
    {
     "name": "stdout",
     "output_type": "stream",
     "text": [
      "72          0.34644     0.689326              0.87838        0.7875                    923.838       \n"
     ]
    },
    {
     "name": "stdout",
     "output_type": "stream",
     "text": [
      "73          0.332314    0.681543              0.8829         0.7881                    936.797       \n"
     ]
    },
    {
     "name": "stdout",
     "output_type": "stream",
     "text": [
      "74          0.330575    0.694144              0.88234        0.7832                    949.836       \n"
     ]
    },
    {
     "name": "stdout",
     "output_type": "stream",
     "text": [
      "75          0.311956    0.677916              0.889621       0.7941                    962.934       \n"
     ]
    },
    {
     "name": "stdout",
     "output_type": "stream",
     "text": [
      "76          0.306907    0.698434              0.892701       0.7866                    975.876       \n"
     ]
    },
    {
     "name": "stdout",
     "output_type": "stream",
     "text": [
      "77          0.295638    0.69885               0.896801       0.7895                    988.735       \n"
     ]
    },
    {
     "name": "stdout",
     "output_type": "stream",
     "text": [
      "78          0.289757    0.678559              0.89694        0.7945                    1001.66       \n"
     ]
    },
    {
     "name": "stdout",
     "output_type": "stream",
     "text": [
      "79          0.27408     0.749504              0.9037         0.7794                    1014.67       \n"
     ]
    },
    {
     "name": "stdout",
     "output_type": "stream",
     "text": [
      "80          0.262027    0.695378              0.907321       0.7932                    1027.66       \n"
     ]
    },
    {
     "name": "stdout",
     "output_type": "stream",
     "text": [
      "81          0.258463    0.694125              0.908881       0.7886                    1040.71       \n"
     ]
    },
    {
     "name": "stdout",
     "output_type": "stream",
     "text": [
      "82          0.24715     0.746069              0.91288        0.7868                    1053.74       \n"
     ]
    },
    {
     "name": "stdout",
     "output_type": "stream",
     "text": [
      "83          0.23923     0.739121              0.916401       0.7911                    1066.72       \n"
     ]
    },
    {
     "name": "stdout",
     "output_type": "stream",
     "text": [
      "84          0.232055    0.736161              0.919121       0.7886                    1079.74       \n"
     ]
    },
    {
     "name": "stdout",
     "output_type": "stream",
     "text": [
      "85          0.225003    0.737554              0.920421       0.7917                    1092.79       \n"
     ]
    },
    {
     "name": "stdout",
     "output_type": "stream",
     "text": [
      "86          0.216581    0.762327              0.924681       0.7886                    1105.76       \n"
     ]
    },
    {
     "name": "stdout",
     "output_type": "stream",
     "text": [
      "87          0.208085    0.765857              0.927481       0.7898                    1118.77       \n"
     ]
    },
    {
     "name": "stdout",
     "output_type": "stream",
     "text": [
      "88          0.200336    0.723814              0.929182       0.7983                    1131.76       \n"
     ]
    },
    {
     "name": "stdout",
     "output_type": "stream",
     "text": [
      "89          0.195724    0.754834              0.931281       0.7919                    1144.72       \n"
     ]
    },
    {
     "name": "stdout",
     "output_type": "stream",
     "text": [
      "90          0.180604    0.795253              0.936821       0.791                     1157.79       \n"
     ]
    },
    {
     "name": "stdout",
     "output_type": "stream",
     "text": [
      "91          0.178013    0.819448              0.937401       0.7868                    1170.72       \n"
     ]
    },
    {
     "name": "stdout",
     "output_type": "stream",
     "text": [
      "92          0.171094    0.78046               0.939601       0.7943                    1183.7        \n"
     ]
    },
    {
     "name": "stdout",
     "output_type": "stream",
     "text": [
      "93          0.165387    0.782751              0.941581       0.7902                    1196.65       \n"
     ]
    },
    {
     "name": "stdout",
     "output_type": "stream",
     "text": [
      "94          0.154877    0.804064              0.946201       0.7916                    1209.55       \n"
     ]
    },
    {
     "name": "stdout",
     "output_type": "stream",
     "text": [
      "95          0.157343    0.817636              0.944941       0.7895                    1222.59       \n"
     ]
    },
    {
     "name": "stdout",
     "output_type": "stream",
     "text": [
      "96          0.148278    0.855417              0.948142       0.7871                    1235.57       \n"
     ]
    },
    {
     "name": "stdout",
     "output_type": "stream",
     "text": [
      "97          0.139731    0.862602              0.951101       0.7929                    1248.95       \n"
     ]
    },
    {
     "name": "stdout",
     "output_type": "stream",
     "text": [
      "98          0.133931    0.894406              0.953081       0.7862                    1261.88       \n"
     ]
    },
    {
     "name": "stdout",
     "output_type": "stream",
     "text": [
      "99          0.133686    0.83356               0.953341       0.7952                    1274.84       \n"
     ]
    },
    {
     "name": "stdout",
     "output_type": "stream",
     "text": [
      "100         0.128363    0.841051              0.955001       0.7955                    1287.61       \n"
     ]
    }
   ],
   "source": [
    "LeNet = L.Classifier(LeNetC(10))\n",
    "AlexNet = L.Classifier(AlexLike())\n",
    "model_list = [L.GoogLeNet(pretrained_model=None), LeNet, L.GoogLeNet(pretrained_model=None),\n",
    "              L.VGG16Layers(pretrained_model=None),\n",
    "              L.ResNet50Layers(pretrained_model=None), L.ResNet152Layers(pretrained_model=None)]\n",
    "\n",
    "#model_list = [L.VGG16Layers(pretrained_model=None)]\n",
    "model_list = [AlexNet, LeNet]\n",
    "\n",
    "epoch_cnt = 300\n",
    "outdir = './tuto-result/'\n",
    "\n",
    "gpu_device = 0\n",
    "for i, model in enumerate(model_list):\n",
    "    train_iter.reset()\n",
    "    test_iter.reset()\n",
    "    \n",
    "    # Print model name\n",
    "    predictor = model.predictor if isinstance(model, L.Classifier) else model\n",
    "    model_name = predictor.__class__.__name__\n",
    "    print(\"#### {0}-{1}\".format(i, model_name))\n",
    "\n",
    "    # Optimizer\n",
    "    model.to_gpu(0); gpu_device=0\n",
    "    optimizer = chainer.optimizers.SGD()\n",
    "    optimizer.setup(model)\n",
    "\n",
    "    # \n",
    "    updater = chainer.training.StandardUpdater(train_iter, optimizer, device=gpu_device)\n",
    "    trainer = chainer.training.Trainer(updater, (epoch_cnt, 'epoch'), out=outdir)\n",
    "\n",
    "    # Extensions\n",
    "    trainer.extend(extensions.Evaluator(test_iter, model, device=gpu_device))\n",
    "    trainer.extend(extensions.LogReport())\n",
    "    trainer.extend(extensions.PrintReport(['epoch', 'main/loss', 'validation/main/loss', 'main/accuracy', 'validation/main/accuracy', 'elapsed_time']))\n",
    "    trainer.extend(extensions.PlotReport(['main/accuracy', 'validation/main/accuracy'], 'epoch', file_name='acc.png'))\n",
    "    # trainer.extend(extensions.ParameterStatistics(model))\n",
    "    # trainer.extend(extensions.ProgressBar())\n",
    "\n",
    "    # Train\n",
    "    #start_time = time.time()\n",
    "    trainer.run()\n",
    "    #print(\"  [{0}-{1}] Execution time: {2:.2f} sec\".format(i, model_name, time.time() - start_time)), time.sleep(0.01)\n",
    "    \n",
    "    chainer.serializers.save_npz(outdir + '{0}-{1}.model'.format(i, model_name), model)\n"
   ]
  },
  {
   "cell_type": "code",
   "execution_count": 90,
   "metadata": {},
   "outputs": [],
   "source": []
  },
  {
   "cell_type": "code",
   "execution_count": 41,
   "metadata": {},
   "outputs": [
    {
     "data": {
      "text/plain": [
       "(variable(2.3398814), None)"
      ]
     },
     "execution_count": 41,
     "metadata": {},
     "output_type": "execute_result"
    }
   ],
   "source": [
    "x = np.random.rand(32, 1, 28, 28).astype(np.float32)\n",
    "t = np.random.randint(0, 10, size=(32,)).astype(np.int32)\n",
    "\n",
    "model = LeNet5(10)\n",
    "y = model(x)\n",
    "loss = F.softmax_cross_entropy(y, t)\n",
    "\n",
    "loss, time.sleep(0.01)"
   ]
  },
  {
   "cell_type": "code",
   "execution_count": 44,
   "metadata": {},
   "outputs": [
    {
     "data": {
      "text/plain": [
       "(784,)"
      ]
     },
     "execution_count": 44,
     "metadata": {},
     "output_type": "execute_result"
    }
   ],
   "source": [
    "train[0][0].shape"
   ]
  },
  {
   "cell_type": "code",
   "execution_count": 45,
   "metadata": {},
   "outputs": [
    {
     "data": {
      "text/plain": [
       "784"
      ]
     },
     "execution_count": 45,
     "metadata": {},
     "output_type": "execute_result"
    }
   ],
   "source": [
    "28 * 28 "
   ]
  },
  {
   "cell_type": "code",
   "execution_count": null,
   "metadata": {},
   "outputs": [],
   "source": []
  }
 ],
 "metadata": {
  "kernelspec": {
   "display_name": "Python 2",
   "language": "python",
   "name": "python2"
  },
  "language_info": {
   "codemirror_mode": {
    "name": "ipython",
    "version": 2
   },
   "file_extension": ".py",
   "mimetype": "text/x-python",
   "name": "python",
   "nbconvert_exporter": "python",
   "pygments_lexer": "ipython2",
   "version": "2.7.6"
  }
 },
 "nbformat": 4,
 "nbformat_minor": 0
}
